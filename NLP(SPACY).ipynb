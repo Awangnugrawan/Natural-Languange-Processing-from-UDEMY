{
  "nbformat": 4,
  "nbformat_minor": 0,
  "metadata": {
    "colab": {
      "provenance": [],
      "authorship_tag": "ABX9TyPeK8m/7Y58tJsnEpkjK0gk",
      "include_colab_link": true
    },
    "kernelspec": {
      "name": "python3",
      "display_name": "Python 3"
    },
    "language_info": {
      "name": "python"
    }
  },
  "cells": [
    {
      "cell_type": "markdown",
      "metadata": {
        "id": "view-in-github",
        "colab_type": "text"
      },
      "source": [
        "<a href=\"https://colab.research.google.com/github/Awangnugrawan/Natural-Languange-Processing-from-UDEMY/blob/main/NLP(SPACY).ipynb\" target=\"_parent\"><img src=\"https://colab.research.google.com/assets/colab-badge.svg\" alt=\"Open In Colab\"/></a>"
      ]
    },
    {
      "cell_type": "code",
      "execution_count": null,
      "metadata": {
        "colab": {
          "base_uri": "https://localhost:8080/"
        },
        "id": "0pk3UMhyWJrb",
        "outputId": "dc752936-9d8d-40be-8ff8-693155d7a726"
      },
      "outputs": [
        {
          "output_type": "stream",
          "name": "stderr",
          "text": [
            "/usr/local/lib/python3.8/dist-packages/torch/cuda/__init__.py:497: UserWarning: Can't initialize NVML\n",
            "  warnings.warn(\"Can't initialize NVML\")\n"
          ]
        }
      ],
      "source": [
        "import spacy"
      ]
    },
    {
      "cell_type": "code",
      "source": [
        "nlp= spacy.load(\"en_core_web_sm\")"
      ],
      "metadata": {
        "id": "0EIsRuV3WXHS"
      },
      "execution_count": null,
      "outputs": []
    },
    {
      "cell_type": "code",
      "source": [
        "text= nlp(\"Hey, I just checked google for top 10 famous landmarks. I am going to share it with you now. Our list starts with Eiffel Tower and follows with Great Wall of Chinea, Kromlin, Learning Tower of Pisa, Pyramid of Piza, Sydney opera house,Statue of Liberty, Taj Mahal, Easter Island moai, Machu Picchu. Have you visited some of them? \")"
      ],
      "metadata": {
        "id": "ZCbWhzGPWpDk"
      },
      "execution_count": null,
      "outputs": []
    },
    {
      "cell_type": "code",
      "source": [
        "for token in text :\n",
        "  print(token.pos)"
      ],
      "metadata": {
        "colab": {
          "base_uri": "https://localhost:8080/"
        },
        "id": "GJX_ocTGXytV",
        "outputId": "cebb7ae0-b8ad-44cd-81db-3b293ba607e6"
      },
      "execution_count": null,
      "outputs": [
        {
          "output_type": "stream",
          "name": "stdout",
          "text": [
            "91\n",
            "97\n",
            "95\n",
            "86\n",
            "100\n",
            "96\n",
            "85\n",
            "84\n",
            "93\n",
            "84\n",
            "92\n",
            "97\n",
            "95\n",
            "87\n",
            "100\n",
            "94\n",
            "100\n",
            "95\n",
            "85\n",
            "95\n",
            "86\n",
            "97\n",
            "95\n",
            "92\n",
            "100\n",
            "85\n",
            "96\n",
            "96\n",
            "89\n",
            "100\n",
            "85\n",
            "96\n",
            "96\n",
            "85\n",
            "96\n",
            "97\n",
            "96\n",
            "97\n",
            "96\n",
            "96\n",
            "85\n",
            "96\n",
            "97\n",
            "96\n",
            "85\n",
            "96\n",
            "97\n",
            "96\n",
            "92\n",
            "92\n",
            "97\n",
            "96\n",
            "85\n",
            "96\n",
            "97\n",
            "96\n",
            "96\n",
            "97\n",
            "96\n",
            "96\n",
            "92\n",
            "97\n",
            "96\n",
            "96\n",
            "97\n",
            "87\n",
            "95\n",
            "100\n",
            "95\n",
            "85\n",
            "95\n",
            "97\n"
          ]
        }
      ]
    },
    {
      "cell_type": "code",
      "source": [
        "for token in text:\n",
        "  print(token.pos_)"
      ],
      "metadata": {
        "colab": {
          "base_uri": "https://localhost:8080/"
        },
        "id": "Yj8LDgtoX662",
        "outputId": "dc27594d-630d-469b-a649-234e7d559ea9"
      },
      "execution_count": null,
      "outputs": [
        {
          "output_type": "stream",
          "name": "stdout",
          "text": [
            "INTJ\n",
            "PUNCT\n",
            "PRON\n",
            "ADV\n",
            "VERB\n",
            "PROPN\n",
            "ADP\n",
            "ADJ\n",
            "NUM\n",
            "ADJ\n",
            "NOUN\n",
            "PUNCT\n",
            "PRON\n",
            "AUX\n",
            "VERB\n",
            "PART\n",
            "VERB\n",
            "PRON\n",
            "ADP\n",
            "PRON\n",
            "ADV\n",
            "PUNCT\n",
            "PRON\n",
            "NOUN\n",
            "VERB\n",
            "ADP\n",
            "PROPN\n",
            "PROPN\n",
            "CCONJ\n",
            "VERB\n",
            "ADP\n",
            "PROPN\n",
            "PROPN\n",
            "ADP\n",
            "PROPN\n",
            "PUNCT\n",
            "PROPN\n",
            "PUNCT\n",
            "PROPN\n",
            "PROPN\n",
            "ADP\n",
            "PROPN\n",
            "PUNCT\n",
            "PROPN\n",
            "ADP\n",
            "PROPN\n",
            "PUNCT\n",
            "PROPN\n",
            "NOUN\n",
            "NOUN\n",
            "PUNCT\n",
            "PROPN\n",
            "ADP\n",
            "PROPN\n",
            "PUNCT\n",
            "PROPN\n",
            "PROPN\n",
            "PUNCT\n",
            "PROPN\n",
            "PROPN\n",
            "NOUN\n",
            "PUNCT\n",
            "PROPN\n",
            "PROPN\n",
            "PUNCT\n",
            "AUX\n",
            "PRON\n",
            "VERB\n",
            "PRON\n",
            "ADP\n",
            "PRON\n",
            "PUNCT\n"
          ]
        }
      ]
    },
    {
      "cell_type": "code",
      "source": [
        "poscounts= text.count_by(spacy.attrs.POS)\n",
        "print(poscounts)"
      ],
      "metadata": {
        "colab": {
          "base_uri": "https://localhost:8080/"
        },
        "id": "wb_kLvq4YR68",
        "outputId": "156aad57-9914-403f-818f-313f5c3e1cc3"
      },
      "execution_count": null,
      "outputs": [
        {
          "output_type": "stream",
          "name": "stdout",
          "text": [
            "{91: 1, 97: 13, 95: 8, 86: 2, 100: 6, 96: 21, 85: 9, 84: 2, 93: 1, 92: 5, 87: 2, 94: 1, 89: 1}\n"
          ]
        }
      ]
    },
    {
      "cell_type": "code",
      "source": [
        "for key, value in poscounts.items():\n",
        "  print(f\"{key} -> {text.vocab[key].text:{5}} :{value}\")"
      ],
      "metadata": {
        "colab": {
          "base_uri": "https://localhost:8080/"
        },
        "id": "L3n1SWotYkcH",
        "outputId": "edbf616b-7074-4155-afe3-3d311b198f5c"
      },
      "execution_count": null,
      "outputs": [
        {
          "output_type": "stream",
          "name": "stdout",
          "text": [
            "91 -> INTJ  :1\n",
            "97 -> PUNCT :13\n",
            "95 -> PRON  :8\n",
            "86 -> ADV   :2\n",
            "100 -> VERB  :6\n",
            "96 -> PROPN :21\n",
            "85 -> ADP   :9\n",
            "84 -> ADJ   :2\n",
            "93 -> NUM   :1\n",
            "92 -> NOUN  :5\n",
            "87 -> AUX   :2\n",
            "94 -> PART  :1\n",
            "89 -> CCONJ :1\n"
          ]
        }
      ]
    },
    {
      "cell_type": "code",
      "source": [
        "text = nlp(\"John Loves mathematics. he visited California last summer and he will be 25 years old in August\")"
      ],
      "metadata": {
        "id": "F4_TL2wZZGUL"
      },
      "execution_count": null,
      "outputs": []
    },
    {
      "cell_type": "code",
      "source": [
        "text.ents"
      ],
      "metadata": {
        "colab": {
          "base_uri": "https://localhost:8080/"
        },
        "id": "_gNHRBNRZ2q5",
        "outputId": "2503473d-a838-4971-a54c-abc2644cc074"
      },
      "execution_count": null,
      "outputs": [
        {
          "output_type": "execute_result",
          "data": {
            "text/plain": [
              "(John Loves, California, last summer, 25 years old, August)"
            ]
          },
          "metadata": {},
          "execution_count": 14
        }
      ]
    },
    {
      "cell_type": "code",
      "source": [
        "for ent in text.ents:\n",
        "  print(ent.text+' => '+ ent.label_+\" -> \"+ str(spacy.explain(ent.label_)))"
      ],
      "metadata": {
        "colab": {
          "base_uri": "https://localhost:8080/"
        },
        "id": "j6u7jEC8Z5np",
        "outputId": "f45f4bce-f94d-4cc2-df5b-2c2a5a75ef87"
      },
      "execution_count": null,
      "outputs": [
        {
          "output_type": "stream",
          "name": "stdout",
          "text": [
            "John Loves => PERSON -> People, including fictional\n",
            "California => GPE -> Countries, cities, states\n",
            "last summer => DATE -> Absolute or relative dates or periods\n",
            "25 years old => DATE -> Absolute or relative dates or periods\n",
            "August => DATE -> Absolute or relative dates or periods\n"
          ]
        }
      ]
    },
    {
      "cell_type": "code",
      "source": [
        "text2 =nlp (\"Apple is a technology company based in Cupertino, California. They are known for their iPhone, iPad, and Mac products.\")"
      ],
      "metadata": {
        "id": "jo4lUVg5bIyt"
      },
      "execution_count": null,
      "outputs": []
    },
    {
      "cell_type": "code",
      "source": [
        "text2.ents\n"
      ],
      "metadata": {
        "colab": {
          "base_uri": "https://localhost:8080/"
        },
        "id": "TuSdkchebZ-B",
        "outputId": "9c9f6b0a-a3e8-4864-9838-d90f31c57f2f"
      },
      "execution_count": null,
      "outputs": [
        {
          "output_type": "execute_result",
          "data": {
            "text/plain": [
              "(Apple, Cupertino, California, iPhone, iPad, Mac)"
            ]
          },
          "metadata": {},
          "execution_count": 20
        }
      ]
    },
    {
      "cell_type": "code",
      "source": [
        "for ent in text2.ents:\n",
        "  print(ent.text+' => '+ ent.label_+\" -> \"+ str(spacy.explain(ent.label_)))"
      ],
      "metadata": {
        "colab": {
          "base_uri": "https://localhost:8080/"
        },
        "id": "MzTF7kzCbcxe",
        "outputId": "39c48303-bf76-46c3-b1eb-02d68b913c7a"
      },
      "execution_count": null,
      "outputs": [
        {
          "output_type": "stream",
          "name": "stdout",
          "text": [
            "Apple => ORG -> Companies, agencies, institutions, etc.\n",
            "Cupertino => GPE -> Countries, cities, states\n",
            "California => GPE -> Countries, cities, states\n",
            "iPhone => PRODUCT -> Objects, vehicles, foods, etc. (not services)\n",
            "iPad => ORG -> Companies, agencies, institutions, etc.\n",
            "Mac => ORG -> Companies, agencies, institutions, etc.\n"
          ]
        }
      ]
    },
    {
      "cell_type": "code",
      "source": [],
      "metadata": {
        "id": "a3lXR6uZbp87"
      },
      "execution_count": null,
      "outputs": []
    }
  ]
}